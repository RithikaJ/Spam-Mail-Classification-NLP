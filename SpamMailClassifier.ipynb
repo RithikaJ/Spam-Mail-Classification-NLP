{
 "cells": [
  {
   "cell_type": "markdown",
   "metadata": {},
   "source": [
    "# MINI-PROJECT: SPAM MAIL CLASSIFIER "
   ]
  },
  {
   "cell_type": "code",
   "execution_count": 1,
   "metadata": {},
   "outputs": [],
   "source": [
    "#Importing libraries\n",
    "import pandas as pd\n",
    "import numpy as np\n",
    "import nltk\n",
    "from nltk.corpus import stopwords\n",
    "import string"
   ]
  },
  {
   "cell_type": "code",
   "execution_count": 2,
   "metadata": {},
   "outputs": [
    {
     "data": {
      "text/html": [
       "<div>\n",
       "<style scoped>\n",
       "    .dataframe tbody tr th:only-of-type {\n",
       "        vertical-align: middle;\n",
       "    }\n",
       "\n",
       "    .dataframe tbody tr th {\n",
       "        vertical-align: top;\n",
       "    }\n",
       "\n",
       "    .dataframe thead th {\n",
       "        text-align: right;\n",
       "    }\n",
       "</style>\n",
       "<table border=\"1\" class=\"dataframe\">\n",
       "  <thead>\n",
       "    <tr style=\"text-align: right;\">\n",
       "      <th></th>\n",
       "      <th>text</th>\n",
       "      <th>spam</th>\n",
       "    </tr>\n",
       "  </thead>\n",
       "  <tbody>\n",
       "    <tr>\n",
       "      <th>0</th>\n",
       "      <td>Subject: naturally irresistible your corporate...</td>\n",
       "      <td>1</td>\n",
       "    </tr>\n",
       "    <tr>\n",
       "      <th>1</th>\n",
       "      <td>Subject: the stock trading gunslinger  fanny i...</td>\n",
       "      <td>1</td>\n",
       "    </tr>\n",
       "    <tr>\n",
       "      <th>2</th>\n",
       "      <td>Subject: unbelievable new homes made easy  im ...</td>\n",
       "      <td>1</td>\n",
       "    </tr>\n",
       "    <tr>\n",
       "      <th>3</th>\n",
       "      <td>Subject: 4 color printing special  request add...</td>\n",
       "      <td>1</td>\n",
       "    </tr>\n",
       "    <tr>\n",
       "      <th>4</th>\n",
       "      <td>Subject: do not have money , get software cds ...</td>\n",
       "      <td>1</td>\n",
       "    </tr>\n",
       "  </tbody>\n",
       "</table>\n",
       "</div>"
      ],
      "text/plain": [
       "                                                text  spam\n",
       "0  Subject: naturally irresistible your corporate...     1\n",
       "1  Subject: the stock trading gunslinger  fanny i...     1\n",
       "2  Subject: unbelievable new homes made easy  im ...     1\n",
       "3  Subject: 4 color printing special  request add...     1\n",
       "4  Subject: do not have money , get software cds ...     1"
      ]
     },
     "execution_count": 2,
     "metadata": {},
     "output_type": "execute_result"
    }
   ],
   "source": [
    "#Read dataset\n",
    "\"\"\"\n",
    "Source: Kaggle\n",
    "\"\"\"\n",
    "df = pd.read_csv(\"emails.csv\")\n",
    "df.head()"
   ]
  },
  {
   "cell_type": "code",
   "execution_count": 3,
   "metadata": {},
   "outputs": [
    {
     "data": {
      "text/plain": [
       "(5728, 2)"
      ]
     },
     "execution_count": 3,
     "metadata": {},
     "output_type": "execute_result"
    }
   ],
   "source": [
    "df.shape"
   ]
  },
  {
   "cell_type": "code",
   "execution_count": 4,
   "metadata": {},
   "outputs": [
    {
     "data": {
      "text/plain": [
       "Index(['text', 'spam'], dtype='object')"
      ]
     },
     "execution_count": 4,
     "metadata": {},
     "output_type": "execute_result"
    }
   ],
   "source": [
    "df.columns"
   ]
  },
  {
   "cell_type": "code",
   "execution_count": 5,
   "metadata": {},
   "outputs": [
    {
     "data": {
      "text/plain": [
       "(5695, 2)"
      ]
     },
     "execution_count": 5,
     "metadata": {},
     "output_type": "execute_result"
    }
   ],
   "source": [
    "#Check duplicates\n",
    "df.drop_duplicates(inplace = True)\n",
    "#Printing shape atfer removal of duplicates\n",
    "df.shape"
   ]
  },
  {
   "cell_type": "code",
   "execution_count": 6,
   "metadata": {},
   "outputs": [
    {
     "data": {
      "text/plain": [
       "text    0\n",
       "spam    0\n",
       "dtype: int64"
      ]
     },
     "execution_count": 6,
     "metadata": {},
     "output_type": "execute_result"
    }
   ],
   "source": [
    "#Check missing values\n",
    "df.isnull().sum()"
   ]
  },
  {
   "cell_type": "markdown",
   "metadata": {},
   "source": [
    "##### Downloading stopwords package"
   ]
  },
  {
   "cell_type": "code",
   "execution_count": 7,
   "metadata": {},
   "outputs": [
    {
     "name": "stderr",
     "output_type": "stream",
     "text": [
      "[nltk_data] Downloading package stopwords to\n",
      "[nltk_data]     C:\\Users\\jayar\\AppData\\Roaming\\nltk_data...\n",
      "[nltk_data]   Package stopwords is already up-to-date!\n"
     ]
    },
    {
     "data": {
      "text/plain": [
       "True"
      ]
     },
     "execution_count": 7,
     "metadata": {},
     "output_type": "execute_result"
    }
   ],
   "source": [
    "nltk.download(\"stopwords\")"
   ]
  },
  {
   "cell_type": "code",
   "execution_count": 8,
   "metadata": {},
   "outputs": [],
   "source": [
    "# Function to process the text\n",
    "def process_text(text):\n",
    "    #Removing punctuation, stopwords\n",
    "    \n",
    "    punc_rem = [char for char in text if char not in string.punctuation]\n",
    "    punc_rem = ''.join(punc_rem)\n",
    "    \n",
    "    clean_words = [word for word in punc_rem.split() if word.lower() not in stopwords.words('english')]\n",
    "    \n",
    "    return clean_words"
   ]
  },
  {
   "cell_type": "code",
   "execution_count": 9,
   "metadata": {},
   "outputs": [
    {
     "data": {
      "text/plain": [
       "0    [Subject, naturally, irresistible, corporate, ...\n",
       "1    [Subject, stock, trading, gunslinger, fanny, m...\n",
       "2    [Subject, unbelievable, new, homes, made, easy...\n",
       "3    [Subject, 4, color, printing, special, request...\n",
       "4    [Subject, money, get, software, cds, software,...\n",
       "Name: text, dtype: object"
      ]
     },
     "execution_count": 9,
     "metadata": {},
     "output_type": "execute_result"
    }
   ],
   "source": [
    "#list of tokens\n",
    "df['text'].head().apply(process_text)"
   ]
  },
  {
   "cell_type": "code",
   "execution_count": 10,
   "metadata": {},
   "outputs": [],
   "source": [
    "#Splitting data\n",
    "from sklearn.model_selection import train_test_split\n",
    "X_train, X_test, y_train, y_test = train_test_split(df.text, df.spam, test_size = 0.2, random_state = 0)"
   ]
  },
  {
   "cell_type": "markdown",
   "metadata": {},
   "source": [
    "### ----- USING COUNTVECTORIZER -----"
   ]
  },
  {
   "cell_type": "code",
   "execution_count": 11,
   "metadata": {},
   "outputs": [],
   "source": [
    "#dict used to store scores of models using countvectorizer\n",
    "cv_score = {}"
   ]
  },
  {
   "cell_type": "code",
   "execution_count": 12,
   "metadata": {},
   "outputs": [
    {
     "name": "stdout",
     "output_type": "stream",
     "text": [
      "The total vocabulary size in the train data is 33126\n"
     ]
    }
   ],
   "source": [
    "# Converting to matrix of tokens\n",
    "from sklearn.feature_extraction.text import CountVectorizer\n",
    "cv = CountVectorizer()\n",
    "cv.fit_transform(X_train)\n",
    "print(\"The total vocabulary size in the train data is\", len(cv.vocabulary_))"
   ]
  },
  {
   "cell_type": "code",
   "execution_count": 13,
   "metadata": {},
   "outputs": [
    {
     "data": {
      "text/plain": [
       "(4556, 33126)"
      ]
     },
     "execution_count": 13,
     "metadata": {},
     "output_type": "execute_result"
    }
   ],
   "source": [
    "X_train_ct = cv.transform(X_train)\n",
    "X_train_ct.shape"
   ]
  },
  {
   "cell_type": "code",
   "execution_count": 14,
   "metadata": {},
   "outputs": [
    {
     "data": {
      "text/plain": [
       "(1139, 33126)"
      ]
     },
     "execution_count": 14,
     "metadata": {},
     "output_type": "execute_result"
    }
   ],
   "source": [
    "X_test_ct = cv.transform(X_test)\n",
    "X_test_ct.shape"
   ]
  },
  {
   "cell_type": "markdown",
   "metadata": {},
   "source": [
    "#### TRYING VARIOUS ML ALGORITHMS"
   ]
  },
  {
   "cell_type": "markdown",
   "metadata": {},
   "source": [
    "##### MODEL 1: NAIVE BAYES"
   ]
  },
  {
   "cell_type": "code",
   "execution_count": 15,
   "metadata": {},
   "outputs": [],
   "source": [
    "#MODELLING\n",
    "from sklearn.naive_bayes import MultinomialNB\n",
    "model1 = MultinomialNB().fit (X_train_ct, y_train)"
   ]
  },
  {
   "cell_type": "code",
   "execution_count": 16,
   "metadata": {},
   "outputs": [
    {
     "name": "stdout",
     "output_type": "stream",
     "text": [
      "Predictions: [0 0 0 ... 0 0 0]\n",
      "Actual: [0 0 0 ... 0 0 0]\n"
     ]
    }
   ],
   "source": [
    "#PREDICTING\n",
    "print (\"Predictions:\",model1.predict(X_train_ct))\n",
    "print (\"Actual:\", y_train.values )"
   ]
  },
  {
   "cell_type": "code",
   "execution_count": 17,
   "metadata": {},
   "outputs": [
    {
     "name": "stdout",
     "output_type": "stream",
     "text": [
      "              precision    recall  f1-score   support\n",
      "\n",
      "           0       1.00      0.99      1.00      3457\n",
      "           1       0.98      1.00      0.99      1099\n",
      "\n",
      "    accuracy                           1.00      4556\n",
      "   macro avg       0.99      1.00      0.99      4556\n",
      "weighted avg       1.00      1.00      1.00      4556\n",
      "\n",
      "\n",
      "Confusion Matrix: \n",
      " [[3436   21]\n",
      " [   1 1098]]\n",
      "\n",
      "Accuracy: 0.995171202809482\n"
     ]
    }
   ],
   "source": [
    "#EVALUATION\n",
    "from sklearn.metrics import classification_report, confusion_matrix, accuracy_score\n",
    "pred = model1.predict(X_train_ct)\n",
    "print (classification_report(y_train,pred))\n",
    "print ()\n",
    "print (\"Confusion Matrix: \\n\", confusion_matrix(y_train,pred))\n",
    "print ()\n",
    "print (\"Accuracy:\", accuracy_score(y_train,pred))"
   ]
  },
  {
   "cell_type": "markdown",
   "metadata": {},
   "source": [
    "###### TRYING ON TEST DATA"
   ]
  },
  {
   "cell_type": "code",
   "execution_count": 18,
   "metadata": {},
   "outputs": [
    {
     "name": "stdout",
     "output_type": "stream",
     "text": [
      "Predictions: [1 0 0 ... 0 0 0]\n",
      "Actual: [1 0 0 ... 0 0 0]\n"
     ]
    }
   ],
   "source": [
    "#PREDICTING\n",
    "print (\"Predictions:\",model1.predict(X_test_ct))\n",
    "print (\"Actual:\", y_test.values )"
   ]
  },
  {
   "cell_type": "code",
   "execution_count": 19,
   "metadata": {},
   "outputs": [
    {
     "name": "stdout",
     "output_type": "stream",
     "text": [
      "              precision    recall  f1-score   support\n",
      "\n",
      "           0       0.99      0.99      0.99       870\n",
      "           1       0.98      0.98      0.98       269\n",
      "\n",
      "    accuracy                           0.99      1139\n",
      "   macro avg       0.99      0.99      0.99      1139\n",
      "weighted avg       0.99      0.99      0.99      1139\n",
      "\n",
      "\n",
      "Confusion Matrix: \n",
      " [[865   5]\n",
      " [  6 263]]\n",
      "\n",
      "Accuracy: 0.990342405618964\n"
     ]
    }
   ],
   "source": [
    "#EVALUATION\n",
    "from sklearn.metrics import classification_report, confusion_matrix, accuracy_score\n",
    "pred = model1.predict(X_test_ct)\n",
    "print (classification_report(y_test,pred))\n",
    "print ()\n",
    "print (\"Confusion Matrix: \\n\", confusion_matrix(y_test,pred))\n",
    "print ()\n",
    "print (\"Accuracy:\", accuracy_score(y_test,pred))"
   ]
  },
  {
   "cell_type": "code",
   "execution_count": 20,
   "metadata": {},
   "outputs": [
    {
     "data": {
      "text/plain": [
       "{'CV - Naive Bayes': 0.990342405618964}"
      ]
     },
     "execution_count": 20,
     "metadata": {},
     "output_type": "execute_result"
    }
   ],
   "source": [
    "cv_score[\"CV - Naive Bayes\"] = accuracy_score(y_test,pred)\n",
    "cv_score"
   ]
  },
  {
   "cell_type": "markdown",
   "metadata": {},
   "source": [
    "##### MODEL 2: KNN "
   ]
  },
  {
   "cell_type": "code",
   "execution_count": 21,
   "metadata": {},
   "outputs": [],
   "source": [
    "#MODELLING\n",
    "from sklearn.neighbors import KNeighborsClassifier\n",
    "model2 = KNeighborsClassifier().fit(X_train_ct,y_train)"
   ]
  },
  {
   "cell_type": "code",
   "execution_count": 22,
   "metadata": {},
   "outputs": [
    {
     "name": "stdout",
     "output_type": "stream",
     "text": [
      "Predictions: [0 0 0 ... 0 0 0]\n",
      "Actual: [0 0 0 ... 0 0 0]\n"
     ]
    }
   ],
   "source": [
    "#PREDICTING\n",
    "print (\"Predictions:\",model2.predict(X_train_ct))\n",
    "print (\"Actual:\", y_train.values )"
   ]
  },
  {
   "cell_type": "code",
   "execution_count": 23,
   "metadata": {},
   "outputs": [
    {
     "name": "stdout",
     "output_type": "stream",
     "text": [
      "              precision    recall  f1-score   support\n",
      "\n",
      "           0       0.94      0.99      0.96      3457\n",
      "           1       0.97      0.79      0.87      1099\n",
      "\n",
      "    accuracy                           0.94      4556\n",
      "   macro avg       0.95      0.89      0.92      4556\n",
      "weighted avg       0.94      0.94      0.94      4556\n",
      "\n",
      "\n",
      "Confusion Matrix: \n",
      " [[3431   26]\n",
      " [ 235  864]]\n",
      "\n",
      "Accuracy: 0.9427129060579456\n"
     ]
    }
   ],
   "source": [
    "#EVALUATION\n",
    "pred2 = model2.predict(X_train_ct)\n",
    "print (classification_report(y_train,pred2))\n",
    "print ()\n",
    "print (\"Confusion Matrix: \\n\", confusion_matrix(y_train,pred2))\n",
    "print ()\n",
    "print (\"Accuracy:\", accuracy_score(y_train,pred2))"
   ]
  },
  {
   "cell_type": "markdown",
   "metadata": {},
   "source": [
    "###### TRYING ON TEST DATA"
   ]
  },
  {
   "cell_type": "code",
   "execution_count": 24,
   "metadata": {},
   "outputs": [
    {
     "name": "stdout",
     "output_type": "stream",
     "text": [
      "Predictions: [1 0 0 ... 0 0 0]\n",
      "Actual: [1 0 0 ... 0 0 0]\n"
     ]
    }
   ],
   "source": [
    "#PREDICTING\n",
    "print (\"Predictions:\",model2.predict(X_test_ct))\n",
    "print (\"Actual:\", y_test.values )"
   ]
  },
  {
   "cell_type": "code",
   "execution_count": 25,
   "metadata": {},
   "outputs": [
    {
     "name": "stdout",
     "output_type": "stream",
     "text": [
      "              precision    recall  f1-score   support\n",
      "\n",
      "           0       0.90      0.99      0.94       870\n",
      "           1       0.93      0.66      0.77       269\n",
      "\n",
      "    accuracy                           0.91      1139\n",
      "   macro avg       0.92      0.82      0.86      1139\n",
      "weighted avg       0.91      0.91      0.90      1139\n",
      "\n",
      "\n",
      "Confusion Matrix: \n",
      " [[857  13]\n",
      " [ 92 177]]\n",
      "\n",
      "Accuracy: 0.9078138718173837\n"
     ]
    }
   ],
   "source": [
    "#EVALUATION\n",
    "pred2 = model2.predict(X_test_ct)\n",
    "print (classification_report(y_test,pred2))\n",
    "print ()\n",
    "print (\"Confusion Matrix: \\n\", confusion_matrix(y_test,pred2))\n",
    "print ()\n",
    "print (\"Accuracy:\", accuracy_score(y_test,pred2))"
   ]
  },
  {
   "cell_type": "code",
   "execution_count": 26,
   "metadata": {
    "scrolled": true
   },
   "outputs": [
    {
     "data": {
      "text/plain": [
       "{'CV - Naive Bayes': 0.990342405618964, 'CV - KNN': 0.9078138718173837}"
      ]
     },
     "execution_count": 26,
     "metadata": {},
     "output_type": "execute_result"
    }
   ],
   "source": [
    "cv_score[\"CV - KNN\"] = accuracy_score(y_test,pred2)\n",
    "cv_score"
   ]
  },
  {
   "cell_type": "markdown",
   "metadata": {},
   "source": [
    "##### MODEL 3: SVC "
   ]
  },
  {
   "cell_type": "code",
   "execution_count": 27,
   "metadata": {},
   "outputs": [],
   "source": [
    "#MODELLING\n",
    "from sklearn.svm import SVC\n",
    "model3 = SVC().fit(X_train_ct,y_train)"
   ]
  },
  {
   "cell_type": "code",
   "execution_count": 28,
   "metadata": {},
   "outputs": [
    {
     "name": "stdout",
     "output_type": "stream",
     "text": [
      "Predictions: [0 0 0 ... 0 0 0]\n",
      "Actual: [0 0 0 ... 0 0 0]\n"
     ]
    }
   ],
   "source": [
    "#PREDICTING\n",
    "print (\"Predictions:\",model3.predict(X_train_ct))\n",
    "print (\"Actual:\", y_train.values )"
   ]
  },
  {
   "cell_type": "code",
   "execution_count": 29,
   "metadata": {},
   "outputs": [
    {
     "name": "stdout",
     "output_type": "stream",
     "text": [
      "              precision    recall  f1-score   support\n",
      "\n",
      "           0       0.96      1.00      0.98      3457\n",
      "           1       0.99      0.87      0.92      1099\n",
      "\n",
      "    accuracy                           0.97      4556\n",
      "   macro avg       0.97      0.93      0.95      4556\n",
      "weighted avg       0.97      0.97      0.96      4556\n",
      "\n",
      "\n",
      "Confusion Matrix: \n",
      " [[3446   11]\n",
      " [ 148  951]]\n",
      "\n",
      "Accuracy: 0.9651009657594382\n"
     ]
    }
   ],
   "source": [
    "#EVALUATION\n",
    "pred3 = model3.predict(X_train_ct)\n",
    "print (classification_report(y_train,pred3))\n",
    "print ()\n",
    "print (\"Confusion Matrix: \\n\", confusion_matrix(y_train,pred3))\n",
    "print ()\n",
    "print (\"Accuracy:\", accuracy_score(y_train,pred3))"
   ]
  },
  {
   "cell_type": "markdown",
   "metadata": {},
   "source": [
    "###### TRYING ON TEST DATA"
   ]
  },
  {
   "cell_type": "code",
   "execution_count": 30,
   "metadata": {},
   "outputs": [
    {
     "name": "stdout",
     "output_type": "stream",
     "text": [
      "Predictions: [1 0 0 ... 0 0 0]\n",
      "Actual: [1 0 0 ... 0 0 0]\n"
     ]
    }
   ],
   "source": [
    "#PREDICTING\n",
    "print (\"Predictions:\",model3.predict(X_test_ct))\n",
    "print (\"Actual:\", y_test.values )"
   ]
  },
  {
   "cell_type": "code",
   "execution_count": 31,
   "metadata": {},
   "outputs": [
    {
     "name": "stdout",
     "output_type": "stream",
     "text": [
      "              precision    recall  f1-score   support\n",
      "\n",
      "           0       0.95      0.99      0.97       870\n",
      "           1       0.97      0.82      0.89       269\n",
      "\n",
      "    accuracy                           0.95      1139\n",
      "   macro avg       0.96      0.91      0.93      1139\n",
      "weighted avg       0.95      0.95      0.95      1139\n",
      "\n",
      "\n",
      "Confusion Matrix: \n",
      " [[864   6]\n",
      " [ 49 220]]\n",
      "\n",
      "Accuracy: 0.95171202809482\n"
     ]
    }
   ],
   "source": [
    "#EVALUATION\n",
    "pred3 = model3.predict(X_test_ct)\n",
    "print (classification_report(y_test,pred3))\n",
    "print ()\n",
    "print (\"Confusion Matrix: \\n\", confusion_matrix(y_test,pred3))\n",
    "print ()\n",
    "print (\"Accuracy:\", accuracy_score(y_test,pred3))"
   ]
  },
  {
   "cell_type": "code",
   "execution_count": 32,
   "metadata": {},
   "outputs": [
    {
     "data": {
      "text/plain": [
       "{'CV - Naive Bayes': 0.990342405618964,\n",
       " 'CV - KNN': 0.9078138718173837,\n",
       " 'CV - SVC': 0.95171202809482}"
      ]
     },
     "execution_count": 32,
     "metadata": {},
     "output_type": "execute_result"
    }
   ],
   "source": [
    "cv_score[\"CV - SVC\"] = accuracy_score(y_test,pred3)\n",
    "cv_score"
   ]
  },
  {
   "cell_type": "markdown",
   "metadata": {},
   "source": [
    "#### Using CountVectorizer method, the most accurate algorithm is Naive Bayes"
   ]
  },
  {
   "cell_type": "markdown",
   "metadata": {},
   "source": [
    "### ----- USING TF-IDF VECTORIZER -----"
   ]
  },
  {
   "cell_type": "code",
   "execution_count": 33,
   "metadata": {},
   "outputs": [],
   "source": [
    "#dict used to store scores of models using TF-IDF vectorizer\n",
    "tv_score = {}"
   ]
  },
  {
   "cell_type": "code",
   "execution_count": 34,
   "metadata": {},
   "outputs": [],
   "source": [
    "from sklearn.feature_extraction.text import TfidfVectorizer\n",
    "tv = TfidfVectorizer()\n",
    "tv.fit(X_train)\n",
    "X_train_t  = tv.transform(X_train)\n",
    "X_test_t = tv.transform(X_test)"
   ]
  },
  {
   "cell_type": "markdown",
   "metadata": {},
   "source": [
    "#### TRYING VARIOUS ML ALGORITHMS"
   ]
  },
  {
   "cell_type": "markdown",
   "metadata": {},
   "source": [
    "##### MODEL 1: NAIVE BAYES"
   ]
  },
  {
   "cell_type": "code",
   "execution_count": 35,
   "metadata": {},
   "outputs": [],
   "source": [
    "#MODELLING\n",
    "from sklearn.naive_bayes import MultinomialNB\n",
    "model1 = MultinomialNB().fit (X_train_t, y_train)"
   ]
  },
  {
   "cell_type": "code",
   "execution_count": 36,
   "metadata": {},
   "outputs": [
    {
     "name": "stdout",
     "output_type": "stream",
     "text": [
      "Predictions: [0 0 0 ... 0 0 0]\n",
      "Actual: [0 0 0 ... 0 0 0]\n"
     ]
    }
   ],
   "source": [
    "#PREDICTING\n",
    "print (\"Predictions:\",model1.predict(X_train_t))\n",
    "print (\"Actual:\", y_train.values )"
   ]
  },
  {
   "cell_type": "code",
   "execution_count": 37,
   "metadata": {},
   "outputs": [
    {
     "name": "stdout",
     "output_type": "stream",
     "text": [
      "              precision    recall  f1-score   support\n",
      "\n",
      "           0       0.88      1.00      0.94      3457\n",
      "           1       1.00      0.59      0.74      1099\n",
      "\n",
      "    accuracy                           0.90      4556\n",
      "   macro avg       0.94      0.79      0.84      4556\n",
      "weighted avg       0.91      0.90      0.89      4556\n",
      "\n",
      "\n",
      "Confusion Matrix: \n",
      " [[3455    2]\n",
      " [ 450  649]]\n",
      "\n",
      "Accuracy: 0.9007901668129938\n"
     ]
    }
   ],
   "source": [
    "#EVALUATION\n",
    "from sklearn.metrics import classification_report, confusion_matrix, accuracy_score\n",
    "pred = model1.predict(X_train_t)\n",
    "print (classification_report(y_train,pred))\n",
    "print ()\n",
    "print (\"Confusion Matrix: \\n\", confusion_matrix(y_train,pred))\n",
    "print ()\n",
    "print (\"Accuracy:\", accuracy_score(y_train,pred))"
   ]
  },
  {
   "cell_type": "markdown",
   "metadata": {},
   "source": [
    "###### TRYING ON TEST DATA"
   ]
  },
  {
   "cell_type": "code",
   "execution_count": 38,
   "metadata": {},
   "outputs": [
    {
     "name": "stdout",
     "output_type": "stream",
     "text": [
      "Predictions: [0 0 0 ... 0 0 0]\n",
      "Actual: [1 0 0 ... 0 0 0]\n"
     ]
    }
   ],
   "source": [
    "#PREDICTING\n",
    "print (\"Predictions:\",model1.predict(X_test_t))\n",
    "print (\"Actual:\", y_test.values )"
   ]
  },
  {
   "cell_type": "code",
   "execution_count": 39,
   "metadata": {},
   "outputs": [
    {
     "name": "stdout",
     "output_type": "stream",
     "text": [
      "              precision    recall  f1-score   support\n",
      "\n",
      "           0       0.86      1.00      0.92       870\n",
      "           1       1.00      0.47      0.64       269\n",
      "\n",
      "    accuracy                           0.87      1139\n",
      "   macro avg       0.93      0.73      0.78      1139\n",
      "weighted avg       0.89      0.87      0.86      1139\n",
      "\n",
      "\n",
      "Confusion Matrix: \n",
      " [[870   0]\n",
      " [143 126]]\n",
      "\n",
      "Accuracy: 0.874451273046532\n"
     ]
    }
   ],
   "source": [
    "#EVALUATION\n",
    "from sklearn.metrics import classification_report, confusion_matrix, accuracy_score\n",
    "pred = model1.predict(X_test_t)\n",
    "print (classification_report(y_test,pred))\n",
    "print ()\n",
    "print (\"Confusion Matrix: \\n\", confusion_matrix(y_test,pred))\n",
    "print ()\n",
    "print (\"Accuracy:\", accuracy_score(y_test,pred))"
   ]
  },
  {
   "cell_type": "code",
   "execution_count": 40,
   "metadata": {},
   "outputs": [],
   "source": [
    "tv_score[\"TV - Naive Bayes\"] = accuracy_score(y_test,pred)"
   ]
  },
  {
   "cell_type": "markdown",
   "metadata": {},
   "source": [
    "##### MODEL 2: KNN "
   ]
  },
  {
   "cell_type": "code",
   "execution_count": 41,
   "metadata": {},
   "outputs": [],
   "source": [
    "#MODELLING\n",
    "from sklearn.neighbors import KNeighborsClassifier\n",
    "model2 = KNeighborsClassifier().fit(X_train_t,y_train)"
   ]
  },
  {
   "cell_type": "code",
   "execution_count": 42,
   "metadata": {},
   "outputs": [
    {
     "name": "stdout",
     "output_type": "stream",
     "text": [
      "Predictions: [0 0 0 ... 0 0 0]\n",
      "Actual: [0 0 0 ... 0 0 0]\n"
     ]
    }
   ],
   "source": [
    "#PREDICTING\n",
    "print (\"Predictions:\",model2.predict(X_train_t))\n",
    "print (\"Actual:\", y_train.values )"
   ]
  },
  {
   "cell_type": "code",
   "execution_count": 43,
   "metadata": {},
   "outputs": [
    {
     "name": "stdout",
     "output_type": "stream",
     "text": [
      "              precision    recall  f1-score   support\n",
      "\n",
      "           0       0.99      0.99      0.99      3457\n",
      "           1       0.96      0.97      0.97      1099\n",
      "\n",
      "    accuracy                           0.98      4556\n",
      "   macro avg       0.98      0.98      0.98      4556\n",
      "weighted avg       0.98      0.98      0.98      4556\n",
      "\n",
      "\n",
      "Confusion Matrix: \n",
      " [[3418   39]\n",
      " [  32 1067]]\n",
      "\n",
      "Accuracy: 0.9844161545215101\n"
     ]
    }
   ],
   "source": [
    "#EVALUATION\n",
    "pred2 = model2.predict(X_train_t)\n",
    "print (classification_report(y_train,pred2))\n",
    "print ()\n",
    "print (\"Confusion Matrix: \\n\", confusion_matrix(y_train,pred2))\n",
    "print ()\n",
    "print (\"Accuracy:\", accuracy_score(y_train,pred2))"
   ]
  },
  {
   "cell_type": "markdown",
   "metadata": {},
   "source": [
    "###### TRYING ON TEST DATA"
   ]
  },
  {
   "cell_type": "code",
   "execution_count": 44,
   "metadata": {},
   "outputs": [
    {
     "name": "stdout",
     "output_type": "stream",
     "text": [
      "Predictions: [1 0 0 ... 0 0 0]\n",
      "Actual: [1 0 0 ... 0 0 0]\n"
     ]
    }
   ],
   "source": [
    "#PREDICTING\n",
    "print (\"Predictions:\",model2.predict(X_test_t))\n",
    "print (\"Actual:\", y_test.values )"
   ]
  },
  {
   "cell_type": "code",
   "execution_count": 45,
   "metadata": {},
   "outputs": [
    {
     "name": "stdout",
     "output_type": "stream",
     "text": [
      "              precision    recall  f1-score   support\n",
      "\n",
      "           0       0.98      0.98      0.98       870\n",
      "           1       0.93      0.94      0.94       269\n",
      "\n",
      "    accuracy                           0.97      1139\n",
      "   macro avg       0.96      0.96      0.96      1139\n",
      "weighted avg       0.97      0.97      0.97      1139\n",
      "\n",
      "\n",
      "Confusion Matrix: \n",
      " [[852  18]\n",
      " [ 15 254]]\n",
      "\n",
      "Accuracy: 0.971027216856892\n"
     ]
    }
   ],
   "source": [
    "#EVALUATION\n",
    "pred2 = model2.predict(X_test_t)\n",
    "print (classification_report(y_test,pred2))\n",
    "print ()\n",
    "print (\"Confusion Matrix: \\n\", confusion_matrix(y_test,pred2))\n",
    "print ()\n",
    "print (\"Accuracy:\", accuracy_score(y_test,pred2))"
   ]
  },
  {
   "cell_type": "code",
   "execution_count": 46,
   "metadata": {},
   "outputs": [],
   "source": [
    "tv_score[\"TV - KNN\"] = accuracy_score(y_test,pred2)"
   ]
  },
  {
   "cell_type": "markdown",
   "metadata": {},
   "source": [
    "##### MODEL 3: SVC "
   ]
  },
  {
   "cell_type": "code",
   "execution_count": 47,
   "metadata": {},
   "outputs": [],
   "source": [
    "#MODELLING\n",
    "from sklearn.svm import SVC\n",
    "model3 = SVC().fit(X_train_t,y_train)"
   ]
  },
  {
   "cell_type": "code",
   "execution_count": 48,
   "metadata": {},
   "outputs": [
    {
     "name": "stdout",
     "output_type": "stream",
     "text": [
      "Predictions: [0 0 0 ... 0 0 0]\n",
      "Actual: [0 0 0 ... 0 0 0]\n"
     ]
    }
   ],
   "source": [
    "#PREDICTING\n",
    "print (\"Predictions:\",model3.predict(X_train_t))\n",
    "print (\"Actual:\", y_train.values )"
   ]
  },
  {
   "cell_type": "code",
   "execution_count": 49,
   "metadata": {},
   "outputs": [
    {
     "name": "stdout",
     "output_type": "stream",
     "text": [
      "              precision    recall  f1-score   support\n",
      "\n",
      "           0       1.00      1.00      1.00      3457\n",
      "           1       1.00      1.00      1.00      1099\n",
      "\n",
      "    accuracy                           1.00      4556\n",
      "   macro avg       1.00      1.00      1.00      4556\n",
      "weighted avg       1.00      1.00      1.00      4556\n",
      "\n",
      "\n",
      "Confusion Matrix: \n",
      " [[3457    0]\n",
      " [   0 1099]]\n",
      "\n",
      "Accuracy: 1.0\n"
     ]
    }
   ],
   "source": [
    "#EVALUATION\n",
    "pred3 = model3.predict(X_train_t)\n",
    "print (classification_report(y_train,pred3))\n",
    "print ()\n",
    "print (\"Confusion Matrix: \\n\", confusion_matrix(y_train,pred3))\n",
    "print ()\n",
    "print (\"Accuracy:\", accuracy_score(y_train,pred3))"
   ]
  },
  {
   "cell_type": "markdown",
   "metadata": {},
   "source": [
    "###### TRYING ON TEST DATA"
   ]
  },
  {
   "cell_type": "code",
   "execution_count": 50,
   "metadata": {},
   "outputs": [
    {
     "name": "stdout",
     "output_type": "stream",
     "text": [
      "Predictions: [1 0 0 ... 0 0 0]\n",
      "Actual: [1 0 0 ... 0 0 0]\n"
     ]
    }
   ],
   "source": [
    "#PREDICTING\n",
    "print (\"Predictions:\",model3.predict(X_test_t))\n",
    "print (\"Actual:\", y_test.values )"
   ]
  },
  {
   "cell_type": "code",
   "execution_count": 51,
   "metadata": {},
   "outputs": [
    {
     "name": "stdout",
     "output_type": "stream",
     "text": [
      "              precision    recall  f1-score   support\n",
      "\n",
      "           0       0.99      1.00      0.99       870\n",
      "           1       0.99      0.97      0.98       269\n",
      "\n",
      "    accuracy                           0.99      1139\n",
      "   macro avg       0.99      0.98      0.99      1139\n",
      "weighted avg       0.99      0.99      0.99      1139\n",
      "\n",
      "\n",
      "Confusion Matrix: \n",
      " [[868   2]\n",
      " [  8 261]]\n",
      "\n",
      "Accuracy: 0.9912203687445127\n"
     ]
    }
   ],
   "source": [
    "#EVALUATION\n",
    "pred3 = model3.predict(X_test_t)\n",
    "print (classification_report(y_test,pred3))\n",
    "print ()\n",
    "print (\"Confusion Matrix: \\n\", confusion_matrix(y_test,pred3))\n",
    "print ()\n",
    "print (\"Accuracy:\", accuracy_score(y_test,pred3))"
   ]
  },
  {
   "cell_type": "code",
   "execution_count": 52,
   "metadata": {},
   "outputs": [
    {
     "data": {
      "text/plain": [
       "{'TV - Naive Bayes': 0.874451273046532,\n",
       " 'TV - KNN': 0.971027216856892,\n",
       " 'TV - SVC': 0.9912203687445127}"
      ]
     },
     "execution_count": 52,
     "metadata": {},
     "output_type": "execute_result"
    }
   ],
   "source": [
    "tv_score[\"TV - SVC\"] = accuracy_score(y_test,pred3)\n",
    "tv_score"
   ]
  },
  {
   "cell_type": "markdown",
   "metadata": {},
   "source": [
    "#### Using TF-IDF Vectorizer method, the most accurate algorithm is SVC "
   ]
  },
  {
   "cell_type": "code",
   "execution_count": 53,
   "metadata": {},
   "outputs": [
    {
     "name": "stdout",
     "output_type": "stream",
     "text": [
      "Scores using CountVectorizer Method\n",
      " {'CV - Naive Bayes': 0.990342405618964, 'CV - KNN': 0.9078138718173837, 'CV - SVC': 0.95171202809482}\n",
      "Scores using TF-IDF Vectorizer Method\n",
      " {'TV - Naive Bayes': 0.874451273046532, 'TV - KNN': 0.971027216856892, 'TV - SVC': 0.9912203687445127}\n"
     ]
    }
   ],
   "source": [
    "print (\"Scores using CountVectorizer Method\\n\",cv_score)\n",
    "print (\"Scores using TF-IDF Vectorizer Method\\n\",tv_score)"
   ]
  },
  {
   "cell_type": "code",
   "execution_count": 54,
   "metadata": {},
   "outputs": [
    {
     "name": "stdout",
     "output_type": "stream",
     "text": [
      "Best Score using CountVectorizer: CV - Naive Bayes\n"
     ]
    }
   ],
   "source": [
    "print (\"Best Score using CountVectorizer:\", max(cv_score, key = cv_score.get))"
   ]
  },
  {
   "cell_type": "code",
   "execution_count": 55,
   "metadata": {},
   "outputs": [
    {
     "name": "stdout",
     "output_type": "stream",
     "text": [
      "Best Score using IF-IDF Vectorizer Method: TV - SVC\n"
     ]
    }
   ],
   "source": [
    "print (\"Best Score using IF-IDF Vectorizer Method:\", max(tv_score, key = tv_score.get))"
   ]
  },
  {
   "cell_type": "markdown",
   "metadata": {},
   "source": [
    "### Comparing the best scores from both the methods and the different algorithms used, applying SVC algorithm after TF-IDF Vectorization seems like the best fit."
   ]
  }
 ],
 "metadata": {
  "kernelspec": {
   "display_name": "Python 3",
   "language": "python",
   "name": "python3"
  },
  "language_info": {
   "codemirror_mode": {
    "name": "ipython",
    "version": 3
   },
   "file_extension": ".py",
   "mimetype": "text/x-python",
   "name": "python",
   "nbconvert_exporter": "python",
   "pygments_lexer": "ipython3",
   "version": "3.8.5"
  }
 },
 "nbformat": 4,
 "nbformat_minor": 4
}
